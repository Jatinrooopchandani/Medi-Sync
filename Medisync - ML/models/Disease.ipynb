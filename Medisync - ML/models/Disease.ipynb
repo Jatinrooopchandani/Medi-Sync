{
 "cells": [
  {
   "cell_type": "markdown",
   "id": "57663c06-c6e3-41e4-bd99-2fbcf1126844",
   "metadata": {},
   "source": [
    "**Loading Dataset**"
   ]
  },
  {
   "cell_type": "code",
   "execution_count": 8,
   "id": "a6a52161-e56b-40c0-9d45-f5faaebf5091",
   "metadata": {},
   "outputs": [],
   "source": [
    "import pandas as pd"
   ]
  },
  {
   "cell_type": "code",
   "execution_count": 9,
   "id": "b271f4e5-805c-451f-a1ed-fcb6535508a2",
   "metadata": {},
   "outputs": [],
   "source": [
    "dataset = pd.read_csv(\"Dataset/Training.csv\")\n",
    "testing_dataset = pd.read_csv(\"Dataset/Testing.csv\")"
   ]
  },
  {
   "cell_type": "code",
   "execution_count": 10,
   "id": "e1a7fc80-1d6b-4553-ba4a-f07e35a407ad",
   "metadata": {},
   "outputs": [
    {
     "data": {
      "text/plain": [
       "(4920, 133)"
      ]
     },
     "execution_count": 10,
     "metadata": {},
     "output_type": "execute_result"
    }
   ],
   "source": [
    "dataset.shape"
   ]
  },
  {
   "cell_type": "markdown",
   "id": "02a1a5e8-79f8-424b-9a50-66713b21b9f9",
   "metadata": {},
   "source": [
    "**Train Test split**"
   ]
  },
  {
   "cell_type": "code",
   "execution_count": 11,
   "id": "ee2117ed-7632-4de7-855f-43f34d828586",
   "metadata": {},
   "outputs": [],
   "source": [
    "from sklearn.model_selection import train_test_split\n",
    "from sklearn.preprocessing import LabelEncoder"
   ]
  },
  {
   "cell_type": "code",
   "execution_count": 14,
   "id": "df626562-009d-4274-8331-c8dfd72e6aad",
   "metadata": {},
   "outputs": [],
   "source": [
    "# X_train = dataset.drop(\"prognosis\", axis=1)\n",
    "# y_train = dataset[\"prognosis\"]\n",
    "# X_test = testing_dataset.drop(\"prognosis\", axis=1)\n",
    "# y_test = testing_dataset['prognosis']\n",
    "\n",
    "X_train, X_test, y_train, y_test = train_test_split(\n",
    "    dataset.drop(\"prognosis\", axis = 1),\n",
    "    dataset[\"prognosis\"],\n",
    "    test_size = 0.2\n",
    ")"
   ]
  },
  {
   "cell_type": "code",
   "execution_count": 15,
   "id": "7a4e1505-a5ea-43bf-85e0-b12c1e3fdf82",
   "metadata": {
    "scrolled": true
   },
   "outputs": [
    {
     "data": {
      "text/plain": [
       "(42, 133)"
      ]
     },
     "execution_count": 15,
     "metadata": {},
     "output_type": "execute_result"
    }
   ],
   "source": [
    "testing_dataset.shape"
   ]
  },
  {
   "cell_type": "code",
   "execution_count": 16,
   "id": "dc93ed90-346a-4dd2-a20f-818128c077a2",
   "metadata": {},
   "outputs": [
    {
     "data": {
      "text/plain": [
       "3403        Fungal infection\n",
       "2878         Gastroenteritis\n",
       "2972             Hepatitis B\n",
       "2047                Impetigo\n",
       "3814                 Allergy\n",
       "                ...         \n",
       "4850    Cervical spondylosis\n",
       "4063           Drug Reaction\n",
       "4020                    GERD\n",
       "3221             Hepatitis E\n",
       "1247                 Allergy\n",
       "Name: prognosis, Length: 3936, dtype: object"
      ]
     },
     "execution_count": 16,
     "metadata": {},
     "output_type": "execute_result"
    }
   ],
   "source": [
    "y_train"
   ]
  },
  {
   "cell_type": "code",
   "execution_count": 17,
   "id": "1fe46365-5500-49b8-99c4-96760e72036b",
   "metadata": {},
   "outputs": [
    {
     "data": {
      "text/plain": [
       "((3936, 132), (984, 132), (3936,), (984,))"
      ]
     },
     "execution_count": 17,
     "metadata": {},
     "output_type": "execute_result"
    }
   ],
   "source": [
    "X_train.shape, X_test.shape, y_train.shape, y_test.shape"
   ]
  },
  {
   "cell_type": "markdown",
   "id": "b39c6a4e-707e-4b85-9f48-e9fe47c69b88",
   "metadata": {},
   "source": [
    "**Training Model**"
   ]
  },
  {
   "cell_type": "code",
   "execution_count": 18,
   "id": "add54ea5-d008-4cc1-bc1a-eee714025468",
   "metadata": {},
   "outputs": [
    {
     "name": "stdout",
     "output_type": "stream",
     "text": [
      "SVC accuracy:1.0\n",
      "SVC Confusion Matrix:\n",
      "[[28,  0,  0, ...,  0,  0,  0],\n",
      " [ 0, 26,  0, ...,  0,  0,  0],\n",
      " [ 0,  0, 24, ...,  0,  0,  0],\n",
      " ...,\n",
      " [ 0,  0,  0, ..., 24,  0,  0],\n",
      " [ 0,  0,  0, ...,  0, 34,  0],\n",
      " [ 0,  0,  0, ...,  0,  0, 30]]\n",
      "RandomForest accuracy:1.0\n",
      "RandomForest Confusion Matrix:\n",
      "[[28,  0,  0, ...,  0,  0,  0],\n",
      " [ 0, 26,  0, ...,  0,  0,  0],\n",
      " [ 0,  0, 24, ...,  0,  0,  0],\n",
      " ...,\n",
      " [ 0,  0,  0, ..., 24,  0,  0],\n",
      " [ 0,  0,  0, ...,  0, 34,  0],\n",
      " [ 0,  0,  0, ...,  0,  0, 30]]\n",
      "KNeighbors accuracy:1.0\n",
      "KNeighbors Confusion Matrix:\n",
      "[[28,  0,  0, ...,  0,  0,  0],\n",
      " [ 0, 26,  0, ...,  0,  0,  0],\n",
      " [ 0,  0, 24, ...,  0,  0,  0],\n",
      " ...,\n",
      " [ 0,  0,  0, ..., 24,  0,  0],\n",
      " [ 0,  0,  0, ...,  0, 34,  0],\n",
      " [ 0,  0,  0, ...,  0,  0, 30]]\n"
     ]
    },
    {
     "data": {
      "image/png": "[encoded data removed]",
      "text/plain": [
       "<Figure size 1000x600 with 1 Axes>"
      ]
     },
     "metadata": {},
     "output_type": "display_data"
    }
   ],
   "source": [
    "from sklearn.datasets import make_classification\n",
    "from sklearn.svm import SVC\n",
    "from sklearn.ensemble import RandomForestClassifier, GradientBoostingClassifier\n",
    "from sklearn.neighbors import KNeighborsClassifier\n",
    "from sklearn.naive_bayes import MultinomialNB\n",
    "import matplotlib.pyplot as plt\n",
    "from sklearn.metrics import accuracy_score, confusion_matrix\n",
    "import numpy as np\n",
    "model_accuracies = {}\n",
    "models = {\n",
    "    \"SVC\":SVC(kernel = \"linear\"),\n",
    "    \"RandomForest\": RandomForestClassifier(n_estimators=100, random_state=42),\n",
    "    \"KNeighbors\":KNeighborsClassifier(n_neighbors=5)\n",
    "}\n",
    "for model_name, model in models.items():\n",
    "    #training the model\n",
    "    model.fit(X_train, y_train)\n",
    "    #testing it\n",
    "    predictions = model.predict(X_test)\n",
    "    #calculating Accuracy\n",
    "    accuracy = accuracy_score(y_test,predictions)\n",
    "    model_accuracies[model_name] = accuracy\n",
    "    #confusion matrix\n",
    "    cm = confusion_matrix(y_test, predictions)\n",
    "    print(f\"{model_name} accuracy:{accuracy}\")\n",
    "    print(f\"{model_name} Confusion Matrix:\")\n",
    "    print(np.array2string(cm, separator=', '))\n",
    "model_names = list(model_accuracies.keys())\n",
    "accuracies = list(model_accuracies.values())\n",
    "plt.figure(figsize=(10, 6))\n",
    "plt.bar(model_names, accuracies, color='skyblue')\n",
    "plt.xlabel('Model')\n",
    "plt.ylabel('Accuracy')\n",
    "plt.title('Accuracy of Different Models')\n",
    "plt.ylim([0, 1]) \n",
    "plt.show()"
   ]
  },
  {
   "cell_type": "code",
   "execution_count": 37,
   "id": "40af49c8-7efb-49d5-beb0-8be118c539d1",
   "metadata": {},
   "outputs": [
    {
     "data": {
      "text/plain": [
       "0.9761904761904762"
      ]
     },
     "execution_count": 37,
     "metadata": {},
     "output_type": "execute_result"
    }
   ],
   "source": [
    "rf = RandomForestClassifier(n_estimators=100, random_state=42)\n",
    "rf.fit(X_train, y_train)\n",
    "ypred = rf.predict(X_test)\n",
    "accuracy_score(y_test, ypred)"
   ]
  },
  {
   "cell_type": "code",
   "execution_count": 38,
   "id": "c378d050-7e11-4dc6-b2dd-6d458d8e4310",
   "metadata": {},
   "outputs": [],
   "source": [
    "import pickle\n",
    "pickle.dump(rf, open(\"Models/rf.pkl\",'wb'))"
   ]
  },
  {
   "cell_type": "code",
   "execution_count": 39,
   "id": "9a0b935c-b112-4db9-9de3-c57299f4773b",
   "metadata": {},
   "outputs": [],
   "source": [
    "rf = pickle.load(open(\"Models/rf.pkl\",'rb'))"
   ]
  },
  {
   "cell_type": "code",
   "execution_count": 40,
   "id": "687dfd14-02f2-4d3a-b153-2274e2a2af83",
   "metadata": {},
   "outputs": [
    {
     "name": "stdout",
     "output_type": "stream",
     "text": [
      "Predicted label:  ['Fungal infection']\n",
      "Actual label:  Fungal infection\n"
     ]
    },
    {
     "name": "stderr",
     "output_type": "stream",
     "text": [
      "C:\\Users\\Asus\\AppData\\Local\\Programs\\Python\\Python312\\Lib\\site-packages\\sklearn\\base.py:493: UserWarning: X does not have valid feature names, but RandomForestClassifier was fitted with feature names\n",
      "  warnings.warn(\n"
     ]
    }
   ],
   "source": [
    "print(\"Predicted label: \", rf.predict(X_test.iloc[0].values.reshape(1,-1)))\n",
    "print(\"Actual label: \", y_test[0])"
   ]
  },
  {
   "cell_type": "code",
   "execution_count": 41,
   "id": "0abd9063-c1fb-47bc-a20a-6afbe51cfaeb",
   "metadata": {},
   "outputs": [],
   "source": [
    "sym_des = pd.read_csv('Dataset/symtoms_df.csv')\n",
    "precautions = pd.read_csv('Dataset/precautions_df.csv')\n",
    "workout = pd.read_csv(\"Dataset/workout_df.csv\")\n",
    "description = pd.read_csv(\"Dataset/description.csv\")\n",
    "medications = pd.read_csv(\"Dataset/medications.csv\")\n",
    "diets = pd.read_csv(\"Dataset/diets.csv\")"
   ]
  },
  {
   "cell_type": "code",
   "execution_count": 42,
   "id": "b2861241-c7fb-4ed8-86ba-c4431a76dc41",
   "metadata": {},
   "outputs": [],
   "source": [
    "def helper(disease):\n",
    "    descr = description[description['Disease'] == disease]['Description']\n",
    "    descr = \" \".join([w for w in descr])\n",
    "\n",
    "    pre = precautions[precautions['Disease'] == disease][['Precaution_1','Precaution_2','Precaution_3','Precaution_2']]\n",
    "    pre = [col for col in pre.values]\n",
    "\n",
    "    med = medications[medications['Disease'] == disease]['Medication']\n",
    "    med = [med for med in med.values]\n",
    "\n",
    "    dt = diets[diets['Disease'] == disease]['Diet']\n",
    "    dt = [dt for dt in dt.values]\n",
    "\n",
    "    wrk = workout[workout['disease'] == disease]['workout']\n",
    "    return descr, pre, med, dt, wrk\n",
    "symptoms_dict = {'itching': 0, 'skin_rash': 1, 'nodal_skin_eruptions': 2, 'continuous_sneezing': 3, 'shivering': 4, 'chills': 5, 'joint_pain': 6, 'stomach_pain': 7, 'acidity': 8, 'ulcers_on_tongue': 9, 'muscle_wasting': 10, 'vomiting': 11, 'burning_micturition': 12, 'spotting_ urination': 13, 'fatigue': 14, 'weight_gain': 15, 'anxiety': 16, 'cold_hands_and_feets': 17, 'mood_swings': 18, 'weight_loss': 19, 'restlessness': 20, 'lethargy': 21, 'patches_in_throat': 22, 'irregular_sugar_level': 23, 'cough': 24, 'high_fever': 25, 'sunken_eyes': 26, 'breathlessness': 27, 'sweating': 28, 'dehydration': 29, 'indigestion': 30, 'headache': 31, 'yellowish_skin': 32, 'dark_urine': 33, 'nausea': 34, 'loss_of_appetite': 35, 'pain_behind_the_eyes': 36, 'back_pain': 37, 'constipation': 38, 'abdominal_pain': 39, 'diarrhoea': 40, 'mild_fever': 41, 'yellow_urine': 42, 'yellowing_of_eyes': 43, 'acute_liver_failure': 44, 'fluid_overload': 45, 'swelling_of_stomach': 46, 'swelled_lymph_nodes': 47, 'malaise': 48, 'blurred_and_distorted_vision': 49, 'phlegm': 50, 'throat_irritation': 51, 'redness_of_eyes': 52, 'sinus_pressure': 53, 'runny_nose': 54, 'congestion': 55, 'chest_pain': 56, 'weakness_in_limbs': 57, 'fast_heart_rate': 58, 'pain_during_bowel_movements': 59, 'pain_in_anal_region': 60, 'bloody_stool': 61, 'irritation_in_anus': 62, 'neck_pain': 63, 'dizziness': 64, 'cramps': 65, 'bruising': 66, 'obesity': 67, 'swollen_legs': 68, 'swollen_blood_vessels': 69, 'puffy_face_and_eyes': 70, 'enlarged_thyroid': 71, 'brittle_nails': 72, 'swollen_extremeties': 73, 'excessive_hunger': 74, 'extra_marital_contacts': 75, 'drying_and_tingling_lips': 76, 'slurred_speech': 77, 'knee_pain': 78, 'hip_joint_pain': 79, 'muscle_weakness': 80, 'stiff_neck': 81, 'swelling_joints': 82, 'movement_stiffness': 83, 'spinning_movements': 84, 'loss_of_balance': 85, 'unsteadiness': 86, 'weakness_of_one_body_side': 87, 'loss_of_smell': 88, 'bladder_discomfort': 89, 'foul_smell_of urine': 90, 'continuous_feel_of_urine': 91, 'passage_of_gases': 92, 'internal_itching': 93, 'toxic_look_(typhos)': 94, 'depression': 95, 'irritability': 96, 'muscle_pain': 97, 'altered_sensorium': 98, 'red_spots_over_body': 99, 'belly_pain': 100, 'abnormal_menstruation': 101, 'dischromic _patches': 102, 'watering_from_eyes': 103, 'increased_appetite': 104, 'polyuria': 105, 'family_history': 106, 'mucoid_sputum': 107, 'rusty_sputum': 108, 'lack_of_concentration': 109, 'visual_disturbances': 110, 'receiving_blood_transfusion': 111, 'receiving_unsterile_injections': 112, 'coma': 113, 'stomach_bleeding': 114, 'distention_of_abdomen': 115, 'history_of_alcohol_consumption': 116, 'fluid_overload.1': 117, 'blood_in_sputum': 118, 'prominent_veins_on_calf': 119, 'palpitations': 120, 'painful_walking': 121, 'pus_filled_pimples': 122, 'blackheads': 123, 'scurring': 124, 'skin_peeling': 125, 'silver_like_dusting': 126, 'small_dents_in_nails': 127, 'inflammatory_nails': 128, 'blister': 129, 'red_sore_around_nose': 130, 'yellow_crust_ooze': 131}\n",
    "def predict_val(patient_symptoms):\n",
    "    input_vector = np.zeros(len(symptoms_dict))\n",
    "    for item in patient_symptoms:\n",
    "        input_vector[symptoms_dict[item]] = 1\n",
    "    return rf.predict([input_vector])[0]"
   ]
  },
  {
   "cell_type": "code",
   "execution_count": 43,
   "id": "764dd445-6d5a-4cd1-b918-459889d00b24",
   "metadata": {},
   "outputs": [
    {
     "name": "stdin",
     "output_type": "stream",
     "text": [
      "Enter your symptoms:  itching\n"
     ]
    },
    {
     "name": "stdout",
     "output_type": "stream",
     "text": [
      "Predicted disease:  Fungal infection\n",
      "-----Description------ \n",
      "\n",
      "Fungal infection is a common skin condition caused by fungi.\n",
      "-----Precaution------- \n",
      "\n",
      "1 :  bath twice\n",
      "2 :  use detol or neem in bathing water\n",
      "3 :  keep infected area dry\n",
      "4 :  use detol or neem in bathing water\n",
      "-----Medication------- \n",
      "\n",
      "[\"['Antifungal Cream', 'Fluconazole', 'Terbinafine', 'Clotrimazole', 'Ketoconazole']\"]\n",
      "-----Diet-----\n",
      "[\"['Antifungal Diet', 'Probiotics', 'Garlic', 'Coconut oil', 'Turmeric']\"]\n",
      "------Workout----\n",
      "0           Avoid sugary foods\n",
      "1           Consume probiotics\n",
      "2    Increase intake of garlic\n",
      "3       Include yogurt in diet\n",
      "4        Limit processed foods\n",
      "5                Stay hydrated\n",
      "6            Consume green tea\n",
      "7       Eat foods rich in zinc\n",
      "8     Include turmeric in diet\n",
      "9    Eat fruits and vegetables\n",
      "Name: workout, dtype: object\n"
     ]
    },
    {
     "name": "stderr",
     "output_type": "stream",
     "text": [
      "C:\\Users\\Asus\\AppData\\Local\\Programs\\Python\\Python312\\Lib\\site-packages\\sklearn\\base.py:493: UserWarning: X does not have valid feature names, but RandomForestClassifier was fitted with feature names\n",
      "  warnings.warn(\n"
     ]
    }
   ],
   "source": [
    "symptoms = input(\"Enter your symptoms: \")\n",
    "user_symptoms = [s.strip() for s in symptoms.split(',')]\n",
    "user_symptoms = [sym.strip(\"[]' \") for sym in user_symptoms]\n",
    "predicted_disease = predict_val(user_symptoms)\n",
    "print(\"Predicted disease: \", predicted_disease)\n",
    "descr, pre, med, dt, wrk  = helper(predicted_disease)\n",
    "print(\"-----Description------ \\n\")\n",
    "print(descr)\n",
    "print(\"-----Precaution------- \\n\")\n",
    "i=1\n",
    "for p_i in pre[0]:\n",
    "    print(i, \": \", p_i)\n",
    "    i+=1\n",
    "print(\"-----Medication------- \\n\")\n",
    "print(med)\n",
    "print(\"-----Diet-----\")\n",
    "print(dt)\n",
    "print('------Workout----')\n",
    "print(wrk)"
   ]
  },
  {
   "cell_type": "code",
   "execution_count": 44,
   "id": "73287938-8d38-444b-b1a0-6aa1c7a558b7",
   "metadata": {},
   "outputs": [],
   "source": [
    "with open(\"rf.pkl\", \"wb\") as file:\n",
    "    pickle.dump(rf, file)"
   ]
  },
  {
   "cell_type": "code",
   "execution_count": 45,
   "id": "b8bdd217-5b3d-4237-8cba-c21a30f615f2",
   "metadata": {},
   "outputs": [
    {
     "name": "stdout",
     "output_type": "stream",
     "text": [
      "Loaded model accuracy: 0.9761904761904762\n"
     ]
    }
   ],
   "source": [
    "# Load the saved model\n",
    "with open(\"rf.pkl\", \"rb\") as file:\n",
    "    loaded_model = pickle.load(file)\n",
    "\n",
    "# Test the loaded model\n",
    "test_prediction = loaded_model.predict(X_test)\n",
    "print(\"Loaded model accuracy:\", accuracy_score(y_test, test_prediction))\n"
   ]
  }
 ],
 "metadata": {
  "kernelspec": {
   "display_name": "Python 3 (ipykernel)",
   "language": "python",
   "name": "python3"
  },
  "language_info": {
   "codemirror_mode": {
    "name": "ipython",
    "version": 3
   },
   "file_extension": ".py",
   "mimetype": "text/x-python",
   "name": "python",
   "nbconvert_exporter": "python",
   "pygments_lexer": "ipython3",
   "version": "3.12.4"
  }
 },
 "nbformat": 4,
 "nbformat_minor": 5
}
